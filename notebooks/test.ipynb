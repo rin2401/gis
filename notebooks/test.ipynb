{
 "cells": [
  {
   "cell_type": "code",
   "execution_count": null,
   "id": "52977f42",
   "metadata": {},
   "outputs": [
    {
     "data": {
      "text/plain": [
       "4465"
      ]
     },
     "execution_count": 2,
     "metadata": {},
     "output_type": "execute_result"
    }
   ],
   "source": [
    "import json\n",
    "import glob\n",
    "\n",
    "paths = glob.glob(\"../data/geojson/*.json\")\n",
    "len(paths)"
   ]
  },
  {
   "cell_type": "code",
   "execution_count": null,
   "id": "ee2e9ee1",
   "metadata": {},
   "outputs": [
    {
     "data": {
      "text/plain": [
       "312"
      ]
     },
     "execution_count": 2,
     "metadata": {},
     "output_type": "execute_result"
    }
   ],
   "source": []
  },
  {
   "cell_type": "code",
   "execution_count": null,
   "id": "4b29555d",
   "metadata": {},
   "outputs": [],
   "source": [
    "\n",
    "import json\n",
    "with open(\"../data/data.json\") as f:\n",
    "    data = json.load(f)\n",
    "\n",
    "xa = [d for d in data if d[\"MA_DIACHINH_CAP1\"] == \"79\" and d[\"CAP_DIACHINH\"] == 3]\n",
    "len(xa)\n",
    "\n",
    "import os\n",
    "geo = []\n",
    "for d in xa:\n",
    "    path = f\"../data/geojson/{d['MA_DIACHINH']}.json\"\n",
    "    if not os.path.exists(path):\n",
    "        print(path)\n",
    "        continue\n",
    "    with open(path) as f:\n",
    "        x = json.load(f)\n",
    "        geo.append(json.loads(x[0][\"GEO_JSON\"]))\n",
    "\n",
    "gj = geo[0].copy()\n",
    "for x in geo:\n",
    "    gj[\"features\"].extend(x[\"features\"])\n",
    "\n",
    "len(gj[\"features\"])\n"
   ]
  },
  {
   "cell_type": "code",
   "execution_count": null,
   "id": "6bae6127",
   "metadata": {},
   "outputs": [
    {
     "data": {
      "text/plain": [
       "313"
      ]
     },
     "execution_count": 10,
     "metadata": {},
     "output_type": "execute_result"
    }
   ],
   "source": [
    "\n",
    "# with open(\"../data/Hồ Chí Minh (phường xã) - T0107.geojson\", \"w\") as f:\n",
    "#     f.write(json.dumps(gj, ensure_ascii=False))\n",
    "\n"
   ]
  },
  {
   "cell_type": "code",
   "execution_count": 11,
   "id": "da21d301",
   "metadata": {},
   "outputs": [
    {
     "name": "stdout",
     "output_type": "stream",
     "text": [
      "../data/geojson/27106.json\n",
      "../data/geojson/27115.json\n",
      "../data/geojson/27091.json\n",
      "../data/geojson/27094.json\n",
      "../data/geojson/27103.json\n",
      "../data/geojson/27097.json\n",
      "../data/geojson/27100.json\n",
      "../data/geojson/27109.json\n",
      "../data/geojson/26839.json\n",
      "../data/geojson/26830.json\n",
      "../data/geojson/26857.json\n",
      "../data/geojson/26833.json\n",
      "../data/geojson/26860.json\n",
      "../data/geojson/26866.json\n",
      "../data/geojson/26863.json\n",
      "../data/geojson/26851.json\n",
      "../data/geojson/26848.json\n",
      "../data/geojson/26836.json\n",
      "../data/geojson/26842.json\n",
      "../data/geojson/26845.json\n",
      "../data/geojson/27112.json\n",
      "../data/geojson/27088.json\n",
      "../data/geojson/27118.json\n",
      "../data/geojson/26854.json\n",
      "../data/geojson/01447.json\n",
      "../data/geojson/04894.json\n",
      "../data/geojson/01576.json\n",
      "../data/geojson/01363.json\n",
      "../data/geojson/07030.json\n",
      "../data/geojson/07057.json\n",
      "../data/geojson/01585.json\n",
      "../data/geojson/01390.json\n",
      "../data/geojson/01597.json\n",
      "../data/geojson/01367.json\n",
      "../data/geojson/01366.json\n",
      "../data/geojson/01471.json\n",
      "../data/geojson/01606.json\n",
      "../data/geojson/01450.json\n",
      "../data/geojson/01375.json\n",
      "../data/geojson/07051.json\n",
      "../data/geojson/04915.json\n",
      "../data/geojson/04909.json\n",
      "../data/geojson/01600.json\n",
      "../data/geojson/01594.json\n",
      "../data/geojson/04921.json\n",
      "../data/geojson/07042.json\n",
      "../data/geojson/07036.json\n",
      "../data/geojson/01624.json\n",
      "../data/geojson/07045.json\n",
      "../data/geojson/01621.json\n",
      "../data/geojson/15943.json\n",
      "../data/geojson/01612.json\n",
      "../data/geojson/01615.json\n",
      "../data/geojson/04903.json\n",
      "../data/geojson/04897.json\n",
      "../data/geojson/07033.json\n",
      "../data/geojson/07066.json\n",
      "../data/geojson/01384.json\n",
      "../data/geojson/01372.json\n",
      "../data/geojson/01468.json\n",
      "../data/geojson/04912.json\n",
      "../data/geojson/01618.json\n",
      "../data/geojson/01378.json\n",
      "../data/geojson/01579.json\n",
      "../data/geojson/04900.json\n",
      "../data/geojson/01603.json\n",
      "../data/geojson/04906.json\n",
      "../data/geojson/01456.json\n",
      "../data/geojson/01582.json\n",
      "../data/geojson/07054.json\n",
      "../data/geojson/01465.json\n",
      "../data/geojson/01459.json\n",
      "../data/geojson/01588.json\n",
      "../data/geojson/01591.json\n",
      "../data/geojson/01474.json\n",
      "../data/geojson/07063.json\n",
      "../data/geojson/07039.json\n",
      "../data/geojson/01387.json\n",
      "../data/geojson/07060.json\n",
      "../data/geojson/21148.json\n",
      "../data/geojson/21157.json\n",
      "../data/geojson/21160.json\n",
      "../data/geojson/21154.json\n",
      "../data/geojson/21151.json\n",
      "../data/geojson/21145.json\n",
      "../data/geojson/21166.json\n",
      "../data/geojson/21169.json\n",
      "../data/geojson/21163.json\n",
      "../data/geojson/01453.json\n",
      "../data/geojson/01609.json\n",
      "../data/geojson/01369.json\n",
      "../data/geojson/07048.json\n",
      "../data/geojson/01462.json\n",
      "../data/geojson/04933.json\n",
      "../data/geojson/01381.json\n"
     ]
    },
    {
     "data": {
      "text/plain": [
       "10630"
      ]
     },
     "execution_count": 11,
     "metadata": {},
     "output_type": "execute_result"
    }
   ],
   "source": [
    "\n",
    "import json\n",
    "with open(\"../data/data.json\") as f:\n",
    "    data = json.load(f)\n",
    "\n",
    "xa = [d for d in data if d[\"CAP_DIACHINH\"] == 3]\n",
    "len(xa)\n",
    "\n",
    "import os\n",
    "geo = []\n",
    "for d in xa:\n",
    "    path = f\"../data/geojson/{d['MA_DIACHINH']}.json\"\n",
    "    if not os.path.exists(path):\n",
    "        print(path)\n",
    "        continue\n",
    "    with open(path) as f:\n",
    "        x = json.load(f)\n",
    "        geo.append(json.loads(x[0][\"GEO_JSON\"]))\n",
    "\n",
    "gj = geo[0].copy()\n",
    "for x in geo:\n",
    "    gj[\"features\"].extend(x[\"features\"])\n",
    "\n",
    "len(gj[\"features\"])\n"
   ]
  },
  {
   "cell_type": "code",
   "execution_count": 18,
   "id": "da4d807f",
   "metadata": {},
   "outputs": [],
   "source": [
    "\n",
    "with open(\"../data/Việt Nam (phường xã) - T0107.geojson\", \"w\") as f:\n",
    "    f.write(json.dumps(gj, ensure_ascii=False))"
   ]
  },
  {
   "cell_type": "code",
   "execution_count": 2,
   "id": "25c1beac",
   "metadata": {},
   "outputs": [],
   "source": [
    "import sys\n",
    "\n",
    "sys.path.append(\"..\")"
   ]
  },
  {
   "cell_type": "code",
   "execution_count": 17,
   "id": "b12349b7",
   "metadata": {},
   "outputs": [
    {
     "name": "stdout",
     "output_type": "stream",
     "text": [
      "{'result': []}\n"
     ]
    },
    {
     "data": {
      "text/plain": [
       "[]"
      ]
     },
     "execution_count": 17,
     "metadata": {},
     "output_type": "execute_result"
    }
   ],
   "source": [
    "from crawl import get_geojson\n",
    "\n",
    "get_geojson(\"07039\", sapnhap=False)"
   ]
  },
  {
   "cell_type": "code",
   "execution_count": null,
   "id": "00cec542",
   "metadata": {},
   "outputs": [],
   "source": []
  },
  {
   "cell_type": "code",
   "execution_count": null,
   "id": "fe63ed20",
   "metadata": {},
   "outputs": [],
   "source": []
  },
  {
   "cell_type": "code",
   "execution_count": null,
   "id": "9bac5fd6",
   "metadata": {},
   "outputs": [],
   "source": []
  }
 ],
 "metadata": {
  "kernelspec": {
   "display_name": "base",
   "language": "python",
   "name": "python3"
  },
  "language_info": {
   "codemirror_mode": {
    "name": "ipython",
    "version": 3
   },
   "file_extension": ".py",
   "mimetype": "text/x-python",
   "name": "python",
   "nbconvert_exporter": "python",
   "pygments_lexer": "ipython3",
   "version": "3.12.2"
  }
 },
 "nbformat": 4,
 "nbformat_minor": 5
}
